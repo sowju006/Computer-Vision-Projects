{
 "cells": [
  {
   "cell_type": "markdown",
   "id": "0f86ef38",
   "metadata": {},
   "source": [
    "## Bike Detection using open cv python"
   ]
  },
  {
   "cell_type": "code",
   "execution_count": 1,
   "id": "63448519",
   "metadata": {},
   "outputs": [],
   "source": [
    "import cv2\n",
    "cascadesrc = 'two_wheeler.xml'\n",
    "videosrc = 'two_wheeler2.mp4'"
   ]
  },
  {
   "cell_type": "code",
   "execution_count": 2,
   "id": "c9fb3415",
   "metadata": {},
   "outputs": [],
   "source": [
    "cap = cv2.VideoCapture(videosrc)\n",
    "bike_cascade = cv2.CascadeClassifier(cascadesrc)"
   ]
  },
  {
   "cell_type": "code",
   "execution_count": 3,
   "id": "83db00b9",
   "metadata": {},
   "outputs": [],
   "source": [
    "while True:\n",
    "    ret, img = cap.read()\n",
    "    if (type(img) == type(None)):\n",
    "        break\n",
    "    \n",
    "    gray = cv2.cvtColor(img, cv2.COLOR_BGR2GRAY)\n",
    "    bikes = bike_cascade.detectMultiScale(gray,1.19,1)\n",
    "    \n",
    "    for (x,y,w,h) in bikes:\n",
    "        cv2.rectangle(img,(x,y),(x+w,y+h),(0,255,215),2)\n",
    "    cv2.imshow('video',img)\n",
    "    \n",
    "    if cv2.waitKey(33) == 27:\n",
    "        break\n",
    "\n",
    "cv2.destroyAllWindows()"
   ]
  },
  {
   "cell_type": "code",
   "execution_count": null,
   "id": "5a6c9fca",
   "metadata": {},
   "outputs": [],
   "source": []
  }
 ],
 "metadata": {
  "kernelspec": {
   "display_name": "Python 3 (ipykernel)",
   "language": "python",
   "name": "python3"
  },
  "language_info": {
   "codemirror_mode": {
    "name": "ipython",
    "version": 3
   },
   "file_extension": ".py",
   "mimetype": "text/x-python",
   "name": "python",
   "nbconvert_exporter": "python",
   "pygments_lexer": "ipython3",
   "version": "3.9.7"
  }
 },
 "nbformat": 4,
 "nbformat_minor": 5
}
