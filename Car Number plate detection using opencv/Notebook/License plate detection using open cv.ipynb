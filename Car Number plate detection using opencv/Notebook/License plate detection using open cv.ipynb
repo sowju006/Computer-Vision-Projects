{
 "cells": [
  {
   "cell_type": "markdown",
   "id": "f8805374",
   "metadata": {},
   "source": [
    "## License plate detection using open cv"
   ]
  },
  {
   "cell_type": "code",
   "execution_count": 1,
   "id": "2e8f23d4",
   "metadata": {},
   "outputs": [],
   "source": [
    "import cv2\n",
    "import pytesseract\n",
    "import numpy as np\n",
    "from PIL.Image import ImageTransformHandler\n",
    "\n",
    "pytesseract.pytesseract.tesseract_cmd = r\"C:\\Program Files\\Tesseract-OCR\\tesseract.exe\""
   ]
  },
  {
   "cell_type": "code",
   "execution_count": 2,
   "id": "b2538138",
   "metadata": {},
   "outputs": [],
   "source": [
    "cascade= cv2.CascadeClassifier(\"haarcascade_russian_plate_number.xml\")\n",
    "states={\"AN\":\"Andaman and Nicobar\",\"AP\":\"Andhra Pradesh\",\"AR\":\"Arunachal Pradesh\",\"AS\":\"Assam\",\"BR\":\"Bihar\",\n",
    "        \"CH\":\"Chandigarh\",\"DN\":\"Dadra and Nagar Haveli\",\"DD\":\"Daman and Diu\",\"DL\":\"Delhi\",\"GA\":\"Goa\",\"GJ\":\"Gujarat\",\n",
    "        \"HR\":\"Haryana\",\"HP\":\"Himachal Pradesh\",\"JK\":\"Jammu and Kashmir\",\"KA\":\"Karnataka\",\"KL\":\"Kerala\",\"LD\":\"Lakshadweep\",\n",
    "        \"MP\":\"Madhya Pradesh\",\"MH\":\"Maharashtra\",\"MN\":\"Manipur\",\"ML\":\"Meghalaya\",\"MZ\":\"Mizoram\",\"NL\":\"Nagaland\",\n",
    "        \"OD\":\"Odissa\",\"PY\":\"Pondicherry\",\"PB\":\"Punjab\",\"RJ\":\"Rajasthan\",\"SK\":\"Sikkim\",\"TN\":\"TamilNadu\",\"TR\":\"Tripura\",\n",
    "        \"UP\":\"Uttar Pradesh\", \"WB\":\"West Bengal\",\"CG\":\"Chhattisgarh\",\"TS\":\"Telangana\",\"JH\":\"Jharkhand\",\"UK\":\"Uttarakhand\"}"
   ]
  },
  {
   "cell_type": "code",
   "execution_count": 3,
   "id": "01746605",
   "metadata": {},
   "outputs": [],
   "source": [
    "def extract_num(img_name):\n",
    "    img = cv2.imread(img_name) ## Reading Image\n",
    "    # Converting into Gray\n",
    "    gray = cv2.cvtColor(img,cv2.COLOR_BGR2GRAY) \n",
    "    # Detecting plate\n",
    "    nplate = cascade.detectMultiScale(gray,1.1,4)\n",
    "    \n",
    "    for (x,y,w,h) in nplate:\n",
    "        # Crop a portion of plate\n",
    "        a,b = (int(0.02*img.shape[0]), int(0.025*img.shape[1]))\n",
    "        plate = img[y+a:y+h-a, x+b:x+w-b, :]\n",
    "        # make image more darker to identify the LPR\n",
    "        ## iMAGE PROCESSING\n",
    "        kernel = np.ones((1, 1), np.uint8)\n",
    "        plate = cv2.dilate(plate, kernel, iterations=1)\n",
    "        plate = cv2.erode(plate, kernel, iterations=1)\n",
    "        plate_gray = cv2.cvtColor(plate,cv2.COLOR_BGR2GRAY)\n",
    "        (thresh, plate) = cv2.threshold(plate_gray, 127, 255, cv2.THRESH_BINARY)\n",
    "        # Feed Image to OCR engine\n",
    "        read = pytesseract.image_to_string(plate)\n",
    "        read = ''.join(e for e in read if e.isalnum())\n",
    "        print(read)\n",
    "        stat = read[0:2]\n",
    "        try:\n",
    "        # Fetch the State information\n",
    "            print('Car Belongs to',states[stat])\n",
    "        except:\n",
    "            print('State not recognised!!')\n",
    "        print(read)\n",
    "        cv2.rectangle(img, (x,y), (x+w, y+h), (51,51,255), 2)\n",
    "        cv2.rectangle(img, (x, y - 40), (x + w, y),(51,51,255) , -1)\n",
    "        cv2.putText(img,read, (x, y - 10), cv2.FONT_HERSHEY_SIMPLEX, 0.7, (255, 255, 255), 2)\n",
    "        cv2.imshow('PLate',plate)\n",
    "        # Save & display result image\n",
    "        cv2.imwrite('plate.jpg', plate)\n",
    "\n",
    "    cv2.imshow(\"Result\", img)\n",
    "    cv2.imwrite('result.jpg',img)\n",
    "    cv2.waitKey(0)\n",
    "    cv2.destroyAllWindows()\n"
   ]
  },
  {
   "cell_type": "code",
   "execution_count": 4,
   "id": "5d5cd6a5",
   "metadata": {},
   "outputs": [
    {
     "name": "stdout",
     "output_type": "stream",
     "text": [
      "MHSIAL4568\n",
      "Car Belongs to Maharashtra\n",
      "MHSIAL4568\n"
     ]
    }
   ],
   "source": [
    "# Let's make a function call\n",
    "extract_num('MH.jpg')"
   ]
  },
  {
   "cell_type": "code",
   "execution_count": 5,
   "id": "e09e8c28",
   "metadata": {},
   "outputs": [
    {
     "name": "stdout",
     "output_type": "stream",
     "text": [
      "MPO9CA7010\n",
      "Car Belongs to Madhya Pradesh\n",
      "MPO9CA7010\n"
     ]
    }
   ],
   "source": [
    "# Let's make a function call\n",
    "extract_num('MP.jpg')"
   ]
  },
  {
   "cell_type": "code",
   "execution_count": null,
   "id": "013ed519",
   "metadata": {},
   "outputs": [],
   "source": []
  }
 ],
 "metadata": {
  "kernelspec": {
   "display_name": "Python 3 (ipykernel)",
   "language": "python",
   "name": "python3"
  },
  "language_info": {
   "codemirror_mode": {
    "name": "ipython",
    "version": 3
   },
   "file_extension": ".py",
   "mimetype": "text/x-python",
   "name": "python",
   "nbconvert_exporter": "python",
   "pygments_lexer": "ipython3",
   "version": "3.9.7"
  }
 },
 "nbformat": 4,
 "nbformat_minor": 5
}
